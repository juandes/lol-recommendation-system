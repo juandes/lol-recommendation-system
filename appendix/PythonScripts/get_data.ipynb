{
 "cells": [
  {
   "cell_type": "code",
   "execution_count": 1,
   "metadata": {
    "collapsed": true
   },
   "outputs": [],
   "source": [
    "from riotwatcher import RiotWatcher\n",
    "import json"
   ]
  },
  {
   "cell_type": "code",
   "execution_count": 2,
   "metadata": {
    "collapsed": true
   },
   "outputs": [],
   "source": [
    "import sys"
   ]
  },
  {
   "cell_type": "code",
   "execution_count": 3,
   "metadata": {
    "collapsed": true
   },
   "outputs": [],
   "source": [
    "watcher = RiotWatcher('RGAPI-KEY-GOES-HERE')"
   ]
  },
  {
   "cell_type": "code",
   "execution_count": null,
   "metadata": {
    "collapsed": true
   },
   "outputs": [],
   "source": [
    "# matches is a list of (game_id, match_starting_time, region, gamemode, match_champions_id)\n",
    "matches = []\n",
    "match_champions = []\n",
    "# dict of <summoner name, region>\n",
    "ids_from_featured_games = {}\n",
    "\n",
    "match_id = []\n",
    "participants_list = []"
   ]
  },
  {
   "cell_type": "code",
   "execution_count": null,
   "metadata": {
    "collapsed": true
   },
   "outputs": [],
   "source": [
    "featured_games = watcher.spectator.featured_games('na1')\n",
    "\n",
    "for game in featured_games['gameList']:\n",
    "    # get the region of the match, e.g. NA1\n",
    "    region = game['platformId']\n",
    "    # write in the record dict the id of the match, starting time, platform ID (region)\n",
    "    # and game mode\n",
    "    record = [game['gameId'], game['gameStartTime'],\n",
    "              game['platformId'], game['gameMode']]\n",
    "    # for each participant of the current match\n",
    "    for participants in game['participants']:\n",
    "        # write in the ids_from_featured_games dict the summoner name as key, and region as value\n",
    "        ids_from_featured_games[participants['summonerName']] = region\n",
    "        # append champion id to record\n",
    "        record.append(participants['championId'])\n",
    "    matches.append(record)"
   ]
  },
  {
   "cell_type": "code",
   "execution_count": null,
   "metadata": {},
   "outputs": [],
   "source": [
    "for name, region in ids_from_featured_games.iteritems():\n",
    "    # retrieve summoner info\n",
    "    summoner = watcher.summoner.by_name(region, name)\n",
    "    user_matches = watcher.match.matchlist_by_account(\n",
    "        region, summoner['accountId'])\n",
    "    # matches of user\n",
    "    for m in user_matches['matches']:\n",
    "        # get match info\n",
    "        game = watcher.match.by_id(region, m['gameId'])\n",
    "        record = [game['seasonId'], game['gameId'], game['gameCreation'],\n",
    "                  game['platformId'], game['gameMode']]\n",
    "        # for each player on this match\n",
    "        for participant in game['participantIdentities']:\n",
    "            # append the summoner id\n",
    "            participants_list.append(participant['player']['accountId'])\n",
    "            if len(participants_list)%50 == 0:\n",
    "                print 'participants: {}'.format(len(participants_list))"
   ]
  },
  {
   "cell_type": "code",
   "execution_count": null,
   "metadata": {
    "collapsed": true
   },
   "outputs": [],
   "source": [
    "file = open('participants.txt', 'a')\n",
    "for p in participants_list:\n",
    "  file.write(\"%s\\n\" % p)"
   ]
  },
  {
   "cell_type": "code",
   "execution_count": 4,
   "metadata": {
    "collapsed": true
   },
   "outputs": [],
   "source": [
    "with open('participants.txt') as f:\n",
    "    all_participants = f.read().splitlines()"
   ]
  },
  {
   "cell_type": "code",
   "execution_count": 5,
   "metadata": {
    "collapsed": true
   },
   "outputs": [],
   "source": [
    "game_ids = []"
   ]
  },
  {
   "cell_type": "code",
   "execution_count": 6,
   "metadata": {
    "collapsed": true
   },
   "outputs": [],
   "source": [
    "# retrieve the matches id from the participant IDs\n",
    "game_ids = []\n",
    "# load all the participants from the list\n",
    "for p in all_participants:\n",
    "    try:\n",
    "        p_matches = watcher.match.matchlist_by_account(account_id = p, region = 'NA1')\n",
    "    except:\n",
    "        continue\n",
    "    for m in p_matches['matches']:\n",
    "        game_ids.append(m['gameId'])   "
   ]
  },
  {
   "cell_type": "code",
   "execution_count": null,
   "metadata": {
    "collapsed": true
   },
   "outputs": [],
   "source": [
    "file = open('gameids.txt', 'a')\n",
    "for p in game_ids:\n",
    "  file.write(\"%s\\n\" % p)"
   ]
  },
  {
   "cell_type": "code",
   "execution_count": 9,
   "metadata": {},
   "outputs": [],
   "source": [
    "with open('gameids.txt') as f:\n",
    "    all_game_ids = f.read().splitlines()"
   ]
  },
  {
   "cell_type": "code",
   "execution_count": 11,
   "metadata": {},
   "outputs": [],
   "source": [
    "match_data = []\n",
    "for gid in all_game_ids:\n",
    "    try:\n",
    "        # get match information\n",
    "        m = watcher.match.by_id(match_id = gid, region = 'na1')\n",
    "    except:\n",
    "        print 'exception match {}'.format(gid)\n",
    "        continue\n",
    "    try:\n",
    "        row = (m['seasonId'], m['queueId'], m['gameId'], m['gameVersion'], m['platformId'], m['gameMode'], m['mapId'], m['gameType'], \n",
    "            m['participants'][0]['championId'], #the first 5 champions are from team 1\n",
    "            m['participants'][1]['championId'],\n",
    "            m['participants'][2]['championId'],\n",
    "            m['participants'][3]['championId'],\n",
    "            m['participants'][4]['championId'],\n",
    "            m['participants'][5]['championId'],\n",
    "            m['participants'][6]['championId'],\n",
    "            m['participants'][7]['championId'],\n",
    "            m['participants'][8]['championId'],\n",
    "            m['participants'][9]['championId'],\n",
    "            m['gameDuration'], m['gameCreation'],\n",
    "            m['teams'][0]['win'], #outcome team 1\n",
    "            m['teams'][1]['win']) #outcome team 2\n",
    "    except:\n",
    "        print (sys.exc_info()[0])\n",
    "        continue\n",
    "    match_data.append(row)"
   ]
  },
  {
   "cell_type": "code",
   "execution_count": null,
   "metadata": {
    "collapsed": true
   },
   "outputs": [],
   "source": [
    "file = open('match_data.txt', 'a')\n",
    "for p in match_data:\n",
    "    # convert each line into a comma separated string so it is easier to read as a CSV\n",
    "    file.write(\"{}\\n\".format(','.join(map(str, p))))"
   ]
  }
 ],
 "metadata": {
  "kernelspec": {
   "display_name": "Python 3",
   "language": "python",
   "name": "python3"
  },
  "language_info": {
   "codemirror_mode": {
    "name": "ipython",
    "version": 3
   },
   "file_extension": ".py",
   "mimetype": "text/x-python",
   "name": "python",
   "nbconvert_exporter": "python",
   "pygments_lexer": "ipython3",
   "version": "3.7.2"
  }
 },
 "nbformat": 4,
 "nbformat_minor": 2
}
