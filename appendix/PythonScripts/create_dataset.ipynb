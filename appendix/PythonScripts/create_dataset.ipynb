{
 "cells": [
  {
   "cell_type": "code",
   "execution_count": 1,
   "metadata": {
    "collapsed": true
   },
   "outputs": [],
   "source": [
    "import pandas as pd\n",
    "import json\n",
    "import string"
   ]
  },
  {
   "cell_type": "code",
   "execution_count": 2,
   "metadata": {
    "collapsed": true
   },
   "outputs": [],
   "source": [
    "pd.options.display.max_rows = 999\n",
    "pd.options.display.max_columns = 999"
   ]
  },
  {
   "cell_type": "code",
   "execution_count": 20,
   "metadata": {
    "collapsed": true
   },
   "outputs": [],
   "source": [
    "columns = [\n",
    "    'season_id', 'queue_id', 'game_id', 'game_version', 'platform_id',\n",
    "    'game_mode', 'map_id', 'game_type',\n",
    "    'champion_1', 'champion_2', 'champion_3',\n",
    "    'champion_4', 'champion_5', 'champion_6',\n",
    "    'champion_7', 'champion_8', 'champion_9', 'champion_10',\n",
    "    'game_duration', 'game_creation',\n",
    "    'team_1_outcome', 'team_2_outcome']\n",
    "\n",
    "with open('champions.json', 'r') as f:\n",
    "    champions = json.load(f)\n",
    "\n",
    "df = pd.read_csv('match_data.txt', names=columns, low_memory=False, encoding='utf-8')"
   ]
  },
  {
   "cell_type": "code",
   "execution_count": 22,
   "metadata": {
    "collapsed": true
   },
   "outputs": [],
   "source": [
    "# map champion id to champion name\n",
    "for i in range(1,11):\n",
    "    champion_n = 'champion_{}'.format(i)\n",
    "    df[champion_n] = df[champion_n].apply(lambda x: champions[str(x)])"
   ]
  },
  {
   "cell_type": "code",
   "execution_count": 26,
   "metadata": {
    "collapsed": true
   },
   "outputs": [],
   "source": [
    "df = df[(df.game_mode == ' CLASSIC') | (df.game_mode == ' ARAM')]"
   ]
  },
  {
   "cell_type": "code",
   "execution_count": 28,
   "metadata": {
    "collapsed": true
   },
   "outputs": [],
   "source": [
    "df.to_csv('match_data_champions.csv', index=False)"
   ]
  },
  {
   "cell_type": "code",
   "execution_count": null,
   "metadata": {},
   "outputs": [],
   "source": [
    "# produce dataset with winning teams\n",
    "# these are the ones used for the recommendations\n",
    "# I'll admit it's mega ugly and hacky\n",
    "list_of_winning_teams = []\n",
    "for index, row in df.iterrows():\n",
    "    d = {}\n",
    "    start = 1\n",
    "    \n",
    "    # add to the dict all the columns\n",
    "    for i in row.keys():\n",
    "        d[i] = row[i]\n",
    "    # set all the values to 0\n",
    "    for c in champions.values():\n",
    "        d[c] = 0\n",
    "    # if team 1 wins, we collect the first 5 champions\n",
    "    # e.g. champion_1, champion_2, ...,champion_5\n",
    "    # otherwise, we use the last 5\n",
    "    # e.g. champion_6, champion_7, ...,champion_10\n",
    "    if d['team_1_outcome'] == 0:\n",
    "        start = 6\n",
    "    for e in range(start,start+5):\n",
    "        d[row['champion_{}'.format(e)]] = 1\n",
    "    list_of_winning_teams.append(d)"
   ]
  },
  {
   "cell_type": "code",
   "execution_count": 34,
   "metadata": {
    "collapsed": true
   },
   "outputs": [],
   "source": [
    "winning_teams_final = pd.DataFrame(list_of_winning_teams)\n",
    "# for this dataset I only care about the teams\n",
    "winning_teams_final.drop(columns=columns, inplace=True)"
   ]
  },
  {
   "cell_type": "code",
   "execution_count": 38,
   "metadata": {
    "collapsed": true
   },
   "outputs": [],
   "source": [
    "winning_teams_final.to_csv('winning_teams.csv', index=False, header=True)"
   ]
  }
 ],
 "metadata": {
  "kernelspec": {
   "display_name": "Python 3",
   "language": "python",
   "name": "python3"
  },
  "language_info": {
   "codemirror_mode": {
    "name": "ipython",
    "version": 3
   },
   "file_extension": ".py",
   "mimetype": "text/x-python",
   "name": "python",
   "nbconvert_exporter": "python",
   "pygments_lexer": "ipython3",
   "version": "3.7.2"
  }
 },
 "nbformat": 4,
 "nbformat_minor": 2
}
